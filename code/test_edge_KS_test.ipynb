{
 "metadata": {
  "name": ""
 },
 "nbformat": 3,
 "nbformat_minor": 0,
 "worksheets": [
  {
   "cells": [
    {
     "cell_type": "code",
     "collapsed": false,
     "input": [
      "%pylab inline\n",
      "from scipy import stats"
     ],
     "language": "python",
     "metadata": {},
     "outputs": [
      {
       "output_type": "stream",
       "stream": "stdout",
       "text": [
        "Populating the interactive namespace from numpy and matplotlib\n"
       ]
      }
     ],
     "prompt_number": 54
    },
    {
     "cell_type": "code",
     "collapsed": false,
     "input": [
      "edge_data = loadtxt(\"../data/skeleton/edge_xyz_BSkeleton_sdss3_00_RSD_0_OM_0.30_OL_0.70_theta_0.0_90.0_phi_0.0_1.0_r_0.0_2000.0_MASS_1.0E+13_FRAC_1.0000_BETA_30.dat\")"
     ],
     "language": "python",
     "metadata": {},
     "outputs": [],
     "prompt_number": 126
    },
    {
     "cell_type": "code",
     "collapsed": false,
     "input": [
      "edge_length = sqrt(edge_data[:,0]**2 + edge_data[:,2]**2) "
     ],
     "language": "python",
     "metadata": {},
     "outputs": [],
     "prompt_number": 127
    },
    {
     "cell_type": "code",
     "collapsed": false,
     "input": [
      "n, bins, patches = hist(edge_length, 20, normed=0, color = 'silver')"
     ],
     "language": "python",
     "metadata": {},
     "outputs": [
      {
       "metadata": {},
       "output_type": "display_data",
       "png": "[encoded data removed]",
       "text": [
        "<matplotlib.figure.Figure at 0x5be1190>"
       ]
      }
     ],
     "prompt_number": 128
    },
    {
     "cell_type": "code",
     "collapsed": false,
     "input": [
      "#pick a random unit vector over the sphere\n",
      "phi = 0.5*pi/180.0\n",
      "theta = pi/4.0\n",
      "x_unit = sin(theta) * cos(phi)\n",
      "y_unit = sin(theta) * sin(phi)\n",
      "z_unit = cos(theta)\n",
      "\n",
      "x_unit = 0.0\n",
      "y_unit = 0.0\n",
      "z_unit = 1.0\n",
      "\n",
      "print x_unit, y_unit, z_unit"
     ],
     "language": "python",
     "metadata": {},
     "outputs": [
      {
       "output_type": "stream",
       "stream": "stdout",
       "text": [
        "0.0 0.0 1.0\n"
       ]
      }
     ],
     "prompt_number": 129
    },
    {
     "cell_type": "code",
     "collapsed": false,
     "input": [
      "#get the cosinus of the angle between the edges \n",
      "mu = arccos(abs((edge_data[:,0]*x_unit + edge_data[:,2]*z_unit))/edge_length)\n",
      "n_points = size(mu)\n",
      "mu_flat = linspace(0.0,pi/2.0,n_points)"
     ],
     "language": "python",
     "metadata": {},
     "outputs": [],
     "prompt_number": 130
    },
    {
     "cell_type": "code",
     "collapsed": false,
     "input": [
      "n, bins, patches = hist(mu, 10, normed=0, color = 'silver')"
     ],
     "language": "python",
     "metadata": {},
     "outputs": [
      {
       "metadata": {},
       "output_type": "display_data",
       "png": "[encoded data removed]",
       "text": [
        "<matplotlib.figure.Figure at 0x53b3990>"
       ]
      }
     ],
     "prompt_number": 131
    },
    {
     "cell_type": "code",
     "collapsed": false,
     "input": [
      "plot(sort(mu))\n",
      "plot(sort(mu_flat))"
     ],
     "language": "python",
     "metadata": {},
     "outputs": [
      {
       "metadata": {},
       "output_type": "pyout",
       "prompt_number": 132,
       "text": [
        "[<matplotlib.lines.Line2D at 0x603c790>]"
       ]
      },
      {
       "metadata": {},
       "output_type": "display_data",
       "png": "[encoded data removed]",
       "text": [
        "<matplotlib.figure.Figure at 0x532fa10>"
       ]
      }
     ],
     "prompt_number": 132
    },
    {
     "cell_type": "code",
     "collapsed": false,
     "input": [
      "KS_stat, p_value = stats.ks_2samp(mu, mu_flat)\n",
      "print KS_stat, p_value"
     ],
     "language": "python",
     "metadata": {},
     "outputs": [
      {
       "output_type": "stream",
       "stream": "stdout",
       "text": [
        "0.00911577028259 0.999987880192\n"
       ]
      }
     ],
     "prompt_number": 133
    },
    {
     "cell_type": "code",
     "collapsed": false,
     "input": [],
     "language": "python",
     "metadata": {},
     "outputs": []
    }
   ],
   "metadata": {}
  }
 ]
}
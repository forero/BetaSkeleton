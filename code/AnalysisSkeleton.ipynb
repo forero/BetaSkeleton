{
 "metadata": {
  "name": ""
 },
 "nbformat": 3,
 "nbformat_minor": 0,
 "worksheets": [
  {
   "cells": [
    {
     "cell_type": "code",
     "collapsed": false,
     "input": [
      "%pylab inline"
     ],
     "language": "python",
     "metadata": {},
     "outputs": [
      {
       "output_type": "stream",
       "stream": "stdout",
       "text": [
        "Populating the interactive namespace from numpy and matplotlib\n"
       ]
      }
     ],
     "prompt_number": 82
    },
    {
     "cell_type": "code",
     "collapsed": false,
     "input": [
      "beta_values = array([1,5,10,15,20])\n",
      "RSD = 0\n",
      "mock_ids = [0,1,2,3,4,5,6]\n",
      "data_path=\"../data/skeleton/\"\n",
      "alpha_n = empty(0)\n",
      "alpha_l = empty(0)\n",
      "for mock_id in mock_ids:\n",
      "    n_edges = empty((0))\n",
      "    l_edges_median = empty((0))\n",
      "    for beta_value in beta_values:\n",
      "        filename=\"edge_xyz_BSkeleton_sdss3_%02d_RSD_%d_OM_0.30_OL_0.70_MASS_5.0E+13_FRAC_0.0100_BETA_%d.dat\"%(mock_id, RSD,beta_value)\n",
      "        edge_data = loadtxt(data_path+filename)\n",
      "        \n",
      "        l_edges = sqrt(edge_data[:,0]**2 + edge_data[:,1]**2 + edge_data[:,2]**2)\n",
      "        l_median = median(l_edges)\n",
      "        l_edges_median = append(l_edges_median,l_median)\n",
      "        \n",
      "        n_edge = shape(edge_data)[0]\n",
      "        n_edges = append(n_edges,n_edge)\n",
      "      #  print n_edge\n",
      "    \n",
      "    p_l = polyfit(log10(beta_values), log10(l_edges_median),1)\n",
      "    p_n = polyfit(log10(beta_values), log10(n_edges),1)\n",
      "\n",
      "    alpha_n = append(alpha_n, p_n[0])\n",
      "    alpha_l = append(alpha_l, p_l[0])\n",
      "scatter(alpha_n, alpha_l)\n",
      "#    scatter(log10(beta_values), log10(n_edges))\n",
      "#    beta_line = linspace(0.5,30,100)\n",
      "#    plot(log10(beta_line), p[0]*log10(beta_line)+p[1])"
     ],
     "language": "python",
     "metadata": {},
     "outputs": [
      {
       "metadata": {},
       "output_type": "pyout",
       "prompt_number": 102,
       "text": [
        "<matplotlib.collections.PathCollection at 0x9e83f50>"
       ]
      },
      {
       "metadata": {},
       "output_type": "display_data",
       "png": "[encoded data removed]",
       "text": [
        "<matplotlib.figure.Figure at 0x80bfb50>"
       ]
      }
     ],
     "prompt_number": 102
    },
    {
     "cell_type": "code",
     "collapsed": false,
     "input": [
      "beta_values = array([1,5,10,15,20,25,30])\n",
      "RSD = 0\n",
      "mock_ids = [0,1,2,3,4]\n",
      "data_path=\"../data/skeleton/\"\n",
      "\n",
      "for mock_id in mock_ids:\n",
      "    for beta_value in beta_values:\n",
      "        filename=\"edge_xyz_BSkeleton_sdss3_%02d_RSD_%d_OM_0.30_OL_0.70_MASS_5.0E+13_FRAC_0.0100_BETA_%d.dat\"%(mock_id, RSD,beta_value)\n",
      "        edge_data = loadtxt(data_path+filename)\n",
      "       \n",
      "        print l_median\n",
      "    \n",
      "    print p\n",
      "    scatter(log10(beta_values), log10(l_edges_median))\n",
      "    beta_line = linspace(0.5,30,100)\n",
      "    plot(log10(beta_line), p[0]*log10(beta_line)+p[1])"
     ],
     "language": "python",
     "metadata": {},
     "outputs": [
      {
       "output_type": "stream",
       "stream": "stdout",
       "text": [
        "147.220619162\n",
        "76.8929370483\n",
        "59.9619773598"
       ]
      },
      {
       "output_type": "stream",
       "stream": "stdout",
       "text": [
        "\n",
        "51.2858255458\n",
        "46.45081669\n",
        "43.0405011663\n",
        "39.6651660305\n",
        "[-0.38228245  2.16236289]\n",
        "147.40084115"
       ]
      },
      {
       "output_type": "stream",
       "stream": "stdout",
       "text": [
        "\n",
        "77.6836714715\n",
        "61.029163989"
       ]
      },
      {
       "output_type": "stream",
       "stream": "stdout",
       "text": [
        "\n",
        "53.4442968391\n",
        "48.03720091\n",
        "44.0307142717\n",
        "40.3303882961\n",
        "[-0.37439898  2.16331124]\n",
        "146.927751832"
       ]
      },
      {
       "output_type": "stream",
       "stream": "stdout",
       "text": [
        "\n",
        "76.6638807188\n",
        "59.7200601996"
       ]
      },
      {
       "output_type": "stream",
       "stream": "stdout",
       "text": [
        "\n",
        "51.6111124837\n",
        "46.3239371776\n",
        "42.8324467152\n",
        "39.7720850797\n",
        "[-0.38157827  2.16118305]\n",
        "149.868530159"
       ]
      },
      {
       "output_type": "stream",
       "stream": "stdout",
       "text": [
        "\n",
        "79.668851842\n",
        "59.5381202047"
       ]
      },
      {
       "output_type": "stream",
       "stream": "stdout",
       "text": [
        "\n",
        "50.1285729789\n",
        "46.2510042407\n",
        "43.4052697827\n",
        "41.1214801041"
       ]
      },
      {
       "output_type": "stream",
       "stream": "stdout",
       "text": [
        "\n",
        "[-0.38601181  2.17006286]\n",
        "148.146254974"
       ]
      },
      {
       "output_type": "stream",
       "stream": "stdout",
       "text": [
        "\n",
        "78.0147346346\n",
        "60.2871534036"
       ]
      },
      {
       "output_type": "stream",
       "stream": "stdout",
       "text": [
        "\n",
        "50.8368258723\n",
        "46.0435994036\n",
        "42.7932822473\n",
        "40.0376966144\n",
        "[-0.38574723  2.16660672]\n"
       ]
      },
      {
       "metadata": {},
       "output_type": "display_data",
       "png": "[encoded data removed]",
       "text": [
        "<matplotlib.figure.Figure at 0x85bca10>"
       ]
      }
     ],
     "prompt_number": 86
    },
    {
     "cell_type": "code",
     "collapsed": false,
     "input": [
      "beta_values = array([1,5,10,15,20,25,30])\n",
      "RSD = 0\n",
      "mock_id = 0\n",
      "data_path=\"../data/skeleton/\"\n",
      "\n",
      "n_edges = empty((0))\n",
      "for beta_value in beta_values:\n",
      "    filename=\"edge_xyz_BSkeleton_sdss3_%02d_RSD_%d_OM_0.30_OL_0.70_MASS_1.0E+13_FRAC_0.0020_BETA_%d.dat\"%(mock_id, RSD,beta_value)\n",
      "    edge_data = loadtxt(data_path+filename)\n",
      "    n_edge = shape(edge_data)[0]\n",
      "    n_edges = append(n_edges,n_edge)\n",
      "    print n_edge"
     ],
     "language": "python",
     "metadata": {},
     "outputs": [
      {
       "output_type": "stream",
       "stream": "stdout",
       "text": [
        "36187\n",
        "5633"
       ]
      },
      {
       "output_type": "stream",
       "stream": "stdout",
       "text": [
        "\n",
        "2780\n",
        "1879"
       ]
      },
      {
       "output_type": "stream",
       "stream": "stdout",
       "text": [
        "\n",
        "1458\n",
        "1183\n",
        "992"
       ]
      },
      {
       "output_type": "stream",
       "stream": "stdout",
       "text": [
        "\n"
       ]
      }
     ],
     "prompt_number": 65
    },
    {
     "cell_type": "code",
     "collapsed": false,
     "input": [
      "p = polyfit(log10(beta_values), log10(n_edges),1)\n",
      "print p\n",
      "scatter(log10(beta_values), log10(n_edges))\n",
      "beta_line = linspace(0.5,30,100)\n",
      "plot(log10(beta_line), p[0]*log10(beta_line)+p[1])"
     ],
     "language": "python",
     "metadata": {},
     "outputs": [
      {
       "output_type": "stream",
       "stream": "stdout",
       "text": [
        "[-1.05356456  4.52705175]\n"
       ]
      },
      {
       "metadata": {},
       "output_type": "pyout",
       "prompt_number": 66,
       "text": [
        "[<matplotlib.lines.Line2D at 0x718bd50>]"
       ]
      },
      {
       "metadata": {},
       "output_type": "display_data",
       "png": "[encoded data removed]",
       "text": [
        "<matplotlib.figure.Figure at 0x7374b90>"
       ]
      }
     ],
     "prompt_number": 66
    },
    {
     "cell_type": "code",
     "collapsed": false,
     "input": [
      "beta_values = array([1,5,10,15,20,25,30])\n",
      "RSD = 0\n",
      "mock_id = 0\n",
      "data_path=\"../data/skeleton/\"\n",
      "\n",
      "n_edges = empty((0))\n",
      "for beta_value in beta_values:\n",
      "    filename=\"edge_xyz_BSkeleton_sdss3_%02d_RSD_%d_OM_0.30_OL_0.70_MASS_1.0E+14_FRAC_0.0500_BETA_%d.dat\"%(mock_id, RSD,beta_value)\n",
      "    edge_data = loadtxt(data_path+filename)\n",
      "    n_edge = shape(edge_data)[0]\n",
      "    n_edges = append(n_edges,n_edge)\n",
      "    print n_edge"
     ],
     "language": "python",
     "metadata": {},
     "outputs": [
      {
       "output_type": "stream",
       "stream": "stdout",
       "text": [
        "27832\n",
        "4494"
       ]
      },
      {
       "output_type": "stream",
       "stream": "stdout",
       "text": [
        "\n",
        "2385\n",
        "1654"
       ]
      },
      {
       "output_type": "stream",
       "stream": "stdout",
       "text": [
        "\n",
        "1318\n",
        "1096\n",
        "965\n"
       ]
      }
     ],
     "prompt_number": 67
    },
    {
     "cell_type": "code",
     "collapsed": false,
     "input": [
      "p = polyfit(log10(beta_values), log10(n_edges),1)\n",
      "print p\n",
      "scatter(log10(beta_values), log10(n_edges))\n",
      "beta_line = linspace(0.5,30,100)\n",
      "plot(log10(beta_line), p[0]*log10(beta_line)+p[1])"
     ],
     "language": "python",
     "metadata": {},
     "outputs": [
      {
       "output_type": "stream",
       "stream": "stdout",
       "text": [
        "[-0.98800135  4.40057183]\n"
       ]
      },
      {
       "metadata": {},
       "output_type": "pyout",
       "prompt_number": 68,
       "text": [
        "[<matplotlib.lines.Line2D at 0x7182d10>]"
       ]
      },
      {
       "metadata": {},
       "output_type": "display_data",
       "png": "[encoded data removed]",
       "text": [
        "<matplotlib.figure.Figure at 0x7b7bed0>"
       ]
      }
     ],
     "prompt_number": 68
    },
    {
     "cell_type": "code",
     "collapsed": false,
     "input": [
      "beta_values = array([1,5,10,15,20,25,30])\n",
      "RSD = 0\n",
      "mock_id = 0\n",
      "data_path=\"../data/skeleton/\"\n",
      "\n",
      "n_edges = empty((0))\n",
      "for beta_value in beta_values:\n",
      "    filename=\"edge_xyz_BSkeleton_sdss3_%02d_RSD_%d_OM_0.30_OL_0.70_MASS_5.0E+13_FRAC_0.0200_BETA_%d.dat\"%(mock_id, RSD,beta_value)\n",
      "    edge_data = loadtxt(data_path+filename)\n",
      "    n_edge = shape(edge_data)[0]\n",
      "    n_edges = append(n_edges,n_edge)\n",
      "    print n_edge\n"
     ],
     "language": "python",
     "metadata": {},
     "outputs": [
      {
       "output_type": "stream",
       "stream": "stdout",
       "text": [
        "48265\n",
        "7364"
       ]
      },
      {
       "output_type": "stream",
       "stream": "stdout",
       "text": [
        "\n",
        "3831\n",
        "2666"
       ]
      },
      {
       "output_type": "stream",
       "stream": "stdout",
       "text": [
        "\n",
        "2084\n",
        "1721\n",
        "1475"
       ]
      },
      {
       "output_type": "stream",
       "stream": "stdout",
       "text": [
        "\n"
       ]
      }
     ],
     "prompt_number": 69
    },
    {
     "cell_type": "code",
     "collapsed": false,
     "input": [
      "p = polyfit(log10(beta_values), log10(n_edges),1)\n",
      "print p\n",
      "scatter(log10(beta_values), log10(n_edges))\n",
      "beta_line = linspace(0.5,30,100)\n",
      "plot(log10(beta_line), p[0]*log10(beta_line)+p[1])"
     ],
     "language": "python",
     "metadata": {},
     "outputs": [
      {
       "output_type": "stream",
       "stream": "stdout",
       "text": [
        "[-1.02048856  4.6398585 ]\n"
       ]
      },
      {
       "metadata": {},
       "output_type": "pyout",
       "prompt_number": 70,
       "text": [
        "[<matplotlib.lines.Line2D at 0x8089cd0>]"
       ]
      },
      {
       "metadata": {},
       "output_type": "display_data",
       "png": "[encoded data removed]",
       "text": [
        "<matplotlib.figure.Figure at 0x8058110>"
       ]
      }
     ],
     "prompt_number": 70
    },
    {
     "cell_type": "code",
     "collapsed": false,
     "input": [
      "beta_values = array([1,5,10,15,20,25,30])\n",
      "RSD = 0\n",
      "mock_id = 1\n",
      "data_path=\"../data/skeleton/\"\n",
      "\n",
      "n_edges = empty((0))\n",
      "for beta_value in beta_values:\n",
      "    filename=\"edge_xyz_BSkeleton_sdss3_%02d_RSD_%d_OM_0.30_OL_0.70_MASS_5.0E+13_FRAC_0.0100_BETA_%d.dat\"%(mock_id, RSD,beta_value)\n",
      "    edge_data = loadtxt(data_path+filename)\n",
      "    n_edge = shape(edge_data)[0]\n",
      "    n_edges = append(n_edges,n_edge)\n",
      "    print n_edge"
     ],
     "language": "python",
     "metadata": {},
     "outputs": [
      {
       "output_type": "stream",
       "stream": "stdout",
       "text": [
        "22926\n",
        "3545\n",
        "1773"
       ]
      },
      {
       "output_type": "stream",
       "stream": "stdout",
       "text": [
        "\n",
        "1192\n",
        "903\n",
        "727\n",
        "626\n"
       ]
      }
     ],
     "prompt_number": 59
    },
    {
     "cell_type": "code",
     "collapsed": false,
     "input": [
      "p = polyfit(log10(beta_values), log10(n_edges),1)\n",
      "print p\n",
      "scatter(log10(beta_values), log10(n_edges))\n",
      "beta_line = linspace(0.5,30,100)\n",
      "plot(log10(beta_line), p[0]*log10(beta_line)+p[1])"
     ],
     "language": "python",
     "metadata": {},
     "outputs": [
      {
       "output_type": "stream",
       "stream": "stdout",
       "text": [
        "[-1.05850456  4.3303433 ]\n"
       ]
      },
      {
       "metadata": {},
       "output_type": "pyout",
       "prompt_number": 60,
       "text": [
        "[<matplotlib.lines.Line2D at 0x7824dd0>]"
       ]
      },
      {
       "metadata": {},
       "output_type": "display_data",
       "png": "[encoded data removed]",
       "text": [
        "<matplotlib.figure.Figure at 0x7665bd0>"
       ]
      }
     ],
     "prompt_number": 60
    },
    {
     "cell_type": "code",
     "collapsed": false,
     "input": [
      "beta_values = array([1,5,10,15,20,25,30])\n",
      "RSD = 0\n",
      "mock_id = 1\n",
      "data_path=\"../data/skeleton/\"\n",
      "\n",
      "n_edges = empty((0))\n",
      "for beta_value in beta_values:\n",
      "    filename=\"edge_xyz_BSkeleton_sdss3_%02d_RSD_%d_OM_0.30_OL_0.70_MASS_1.0E+14_FRAC_0.0500_BETA_%d.dat\"%(mock_id, RSD,beta_value)\n",
      "    edge_data = loadtxt(data_path+filename)\n",
      "    n_edge = shape(edge_data)[0]\n",
      "    n_edges = append(n_edges,n_edge)\n",
      "    print n_edge"
     ],
     "language": "python",
     "metadata": {},
     "outputs": [
      {
       "output_type": "stream",
       "stream": "stdout",
       "text": [
        "28031\n",
        "4364"
       ]
      },
      {
       "output_type": "stream",
       "stream": "stdout",
       "text": [
        "\n",
        "2302\n",
        "1608\n",
        "1259"
       ]
      },
      {
       "output_type": "stream",
       "stream": "stdout",
       "text": [
        "\n",
        "1031\n",
        "893\n"
       ]
      }
     ],
     "prompt_number": 61
    },
    {
     "cell_type": "code",
     "collapsed": false,
     "input": [
      "p = polyfit(log10(beta_values), log10(n_edges),1)\n",
      "print p\n",
      "scatter(log10(beta_values), log10(n_edges))\n",
      "beta_line = linspace(0.5,30,100)\n",
      "plot(log10(beta_line), p[0]*log10(beta_line)+p[1])"
     ],
     "language": "python",
     "metadata": {},
     "outputs": [
      {
       "output_type": "stream",
       "stream": "stdout",
       "text": [
        "[-1.00876429  4.40471449]\n"
       ]
      },
      {
       "metadata": {},
       "output_type": "pyout",
       "prompt_number": 62,
       "text": [
        "[<matplotlib.lines.Line2D at 0x736edd0>]"
       ]
      },
      {
       "metadata": {},
       "output_type": "display_data",
       "png": "[encoded data removed]",
       "text": [
        "<matplotlib.figure.Figure at 0x6d0fed0>"
       ]
      }
     ],
     "prompt_number": 62
    },
    {
     "cell_type": "code",
     "collapsed": false,
     "input": [],
     "language": "python",
     "metadata": {},
     "outputs": []
    }
   ],
   "metadata": {}
  }
 ]
}